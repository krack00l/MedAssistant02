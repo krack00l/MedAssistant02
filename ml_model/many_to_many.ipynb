{
 "cells": [
  {
   "cell_type": "code",
   "execution_count": 3,
   "metadata": {},
   "outputs": [],
   "source": [
    "import sqlite3\n",
    "import pandas as pd"
   ]
  },
  {
   "cell_type": "markdown",
   "metadata": {},
   "source": [
    "# Helper function"
   ]
  },
  {
   "cell_type": "code",
   "execution_count": 37,
   "metadata": {},
   "outputs": [],
   "source": [
    "def formed_col_sql(columns):\n",
    "    string_output = \"\"\n",
    "    for column in columns[:-1]:\n",
    "        string_output += f\"{column} TEXT, \"\n",
    "    string_output += f\"{columns[-1]} TEXT\"\n",
    "    return string_output"
   ]
  },
  {
   "cell_type": "code",
   "execution_count": 71,
   "metadata": {},
   "outputs": [],
   "source": [
    "def insert_data_into_table(table_name, data_pandas, cursor):\n",
    "    string_columns = ''\n",
    "    string_values = ''\n",
    "    for col in data_pandas.columns[:-1]:\n",
    "        string_columns += f'{col}, '\n",
    "    string_columns += f'{data_pandas.columns[-1]}'\n",
    "    string_columns = f'{table_name}_key, '+ string_columns\n",
    "    string_request = f\"\"\"INSERT INTO {table_name} ({string_columns}) VALUES ({len(data_pandas.columns)*'?, ' + '?'})\"\"\"\n",
    "    for idx in range(len(data_pandas)):\n",
    "        insert_data = (idx, *data_pandas.iloc[idx].values)\n",
    "        cursor.execute(string_request, insert_data)"
   ]
  },
  {
   "cell_type": "markdown",
   "metadata": {},
   "source": [
    "# Constant"
   ]
  },
  {
   "cell_type": "code",
   "execution_count": 6,
   "metadata": {},
   "outputs": [],
   "source": [
    "dataset_sql_name = 'dataset_sql'\n",
    "symptom_data_sql_name = 'symptom_data_sql'\n",
    "symptom_precaution_sql_name = 'symptom_precaution_sql'\n",
    "symptom_severity_sql_name = 'symptom_severity_sql'"
   ]
  },
  {
   "cell_type": "markdown",
   "metadata": {},
   "source": [
    "# Load pandas data"
   ]
  },
  {
   "cell_type": "code",
   "execution_count": 7,
   "metadata": {},
   "outputs": [],
   "source": [
    "# загрузка датасетов\n",
    "dataset = pd.read_csv('data/dataset.csv')\n",
    "symptom_data = pd.read_csv('data/symptom_Description.csv')\n",
    "symptom_precaution = pd.read_csv('data/symptom_precaution.csv')\n",
    "symptom_severity = pd.read_csv('data/Symptom-severity.csv')"
   ]
  },
  {
   "cell_type": "markdown",
   "metadata": {},
   "source": [
    "# Make con and execute"
   ]
  },
  {
   "cell_type": "code",
   "execution_count": 4,
   "metadata": {},
   "outputs": [],
   "source": [
    "con = sqlite3.connect('dataset.db')"
   ]
  },
  {
   "cell_type": "code",
   "execution_count": 5,
   "metadata": {},
   "outputs": [],
   "source": [
    "cur = con.cursor()"
   ]
  },
  {
   "cell_type": "code",
   "execution_count": 44,
   "metadata": {},
   "outputs": [
    {
     "data": {
      "text/plain": [
       "<sqlite3.Cursor at 0x1264a0730>"
      ]
     },
     "execution_count": 44,
     "metadata": {},
     "output_type": "execute_result"
    }
   ],
   "source": [
    "cur.execute(f\"\"\"\n",
    "    CREATE TABLE IF NOT EXISTS {symptom_data_sql_name} \n",
    "        (\n",
    "            {symptom_data_sql_name}_key INTEGER PRIMARY KEY AUTOINCREMENT,\n",
    "            Disease\tTEXT,\n",
    "            Description TEXT\n",
    "        )\"\"\")\n",
    "\n",
    "cur.execute(f\"\"\"CREATE TABLE IF NOT EXISTS {symptom_precaution_sql_name}\n",
    "        (\n",
    "            {symptom_precaution_sql_name}_key INTEGER PRIMARY KEY AUTOINCREMENT,\n",
    "            {formed_col_sql(symptom_precaution.columns)}\n",
    "        )\"\"\")\n",
    "\n",
    "cur.execute(f\"\"\"CREATE TABLE IF NOT EXISTS {symptom_severity_sql_name}\n",
    "        (\n",
    "            {symptom_severity_sql_name}_key INTEGER PRIMARY KEY AUTOINCREMENT,\n",
    "            {formed_col_sql(symptom_severity.columns)}\n",
    "        )\"\"\")\n",
    "    \n",
    "cur.execute(f\"\"\"CREATE TABLE IF NOT EXISTS {dataset_sql_name}\n",
    "        (\n",
    "            {dataset_sql_name}_key INTEGER PRIMARY KEY AUTOINCREMENT,\n",
    "            {formed_col_sql(dataset.columns)}\n",
    "        )\"\"\")"
   ]
  },
  {
   "cell_type": "code",
   "execution_count": 75,
   "metadata": {},
   "outputs": [],
   "source": [
    "# Fill tables\n",
    "insert_data_into_table(dataset_sql_name, dataset, cur)\n",
    "insert_data_into_table(symptom_data_sql_name, symptom_data, cur)\n",
    "insert_data_into_table(symptom_precaution_sql_name, symptom_precaution, cur)\n",
    "insert_data_into_table(symptom_severity_sql_name, symptom_severity, cur)\n",
    "\n",
    "con.commit()"
   ]
  }
 ],
 "metadata": {
  "kernelspec": {
   "display_name": "Python 3",
   "language": "python",
   "name": "python3"
  },
  "language_info": {
   "codemirror_mode": {
    "name": "ipython",
    "version": 3
   },
   "file_extension": ".py",
   "mimetype": "text/x-python",
   "name": "python",
   "nbconvert_exporter": "python",
   "pygments_lexer": "ipython3",
   "version": "3.9.5"
  }
 },
 "nbformat": 4,
 "nbformat_minor": 2
}
